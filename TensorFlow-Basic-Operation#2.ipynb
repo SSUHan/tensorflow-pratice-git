{
 "cells": [
  {
   "cell_type": "markdown",
   "metadata": {},
   "source": [
    "# TensorFlow-Basic-Operation#2"
   ]
  },
  {
   "cell_type": "code",
   "execution_count": 1,
   "metadata": {
    "collapsed": true
   },
   "outputs": [],
   "source": [
    "import tensorflow as tf\n",
    "import numpy as np"
   ]
  },
  {
   "cell_type": "markdown",
   "metadata": {},
   "source": [
    "## Step6. First Linear Regression with Static Value"
   ]
  },
  {
   "cell_type": "code",
   "execution_count": 2,
   "metadata": {
    "collapsed": true
   },
   "outputs": [],
   "source": [
    "x_data = [1, 2, 3]\n",
    "y_data = [4, 7, 8]"
   ]
  },
  {
   "cell_type": "markdown",
   "metadata": {},
   "source": [
    "### Cost Function(loss) = 1/m*sum{(h-y)^2}"
   ]
  },
  {
   "cell_type": "code",
   "execution_count": 3,
   "metadata": {
    "collapsed": true
   },
   "outputs": [],
   "source": [
    "# h = 2*x + 1\n",
    "h = tf.constant(2)*x_data + tf.constant(1)"
   ]
  },
  {
   "cell_type": "code",
   "execution_count": 4,
   "metadata": {
    "collapsed": true
   },
   "outputs": [],
   "source": [
    "diff = h - y_data"
   ]
  },
  {
   "cell_type": "code",
   "execution_count": 5,
   "metadata": {
    "collapsed": true
   },
   "outputs": [],
   "source": [
    "cost = tf.reduce_mean(tf.square(diff))"
   ]
  },
  {
   "cell_type": "code",
   "execution_count": 6,
   "metadata": {
    "collapsed": false
   },
   "outputs": [
    {
     "name": "stdout",
     "output_type": "stream",
     "text": [
      "[3 5 7]\n",
      "[-1 -2 -1]\n",
      "2\n"
     ]
    }
   ],
   "source": [
    "with tf.Session() as sess:\n",
    "    print(sess.run(h))\n",
    "    print(sess.run(diff))\n",
    "    print(sess.run(cost))"
   ]
  },
  {
   "cell_type": "markdown",
   "metadata": {},
   "source": [
    "## Step7. Linear Regression with Variable Value"
   ]
  },
  {
   "cell_type": "code",
   "execution_count": 15,
   "metadata": {
    "collapsed": false
   },
   "outputs": [],
   "source": [
    "W = tf.Variable(tf.random_uniform([1], -1, 1)) # W : theta\n",
    "b = tf.Variable(tf.random_uniform([1], -1, 1))"
   ]
  },
  {
   "cell_type": "code",
   "execution_count": 16,
   "metadata": {
    "collapsed": true
   },
   "outputs": [],
   "source": [
    "# h = x*theta + b\n",
    "h = x_data*W + b"
   ]
  },
  {
   "cell_type": "code",
   "execution_count": 17,
   "metadata": {
    "collapsed": true
   },
   "outputs": [],
   "source": [
    "diff = h - y_data"
   ]
  },
  {
   "cell_type": "code",
   "execution_count": 18,
   "metadata": {
    "collapsed": true
   },
   "outputs": [],
   "source": [
    "cost = tf.reduce_mean(tf.square(diff))"
   ]
  },
  {
   "cell_type": "code",
   "execution_count": 19,
   "metadata": {
    "collapsed": true
   },
   "outputs": [],
   "source": [
    "# alpha : learning rates..\n",
    "alpha = tf.Variable(0.1)"
   ]
  },
  {
   "cell_type": "code",
   "execution_count": 20,
   "metadata": {
    "collapsed": true
   },
   "outputs": [],
   "source": [
    "# minimize\n",
    "optimizer = tf.train.GradientDescentOptimizer(alpha)\n",
    "train = optimizer.minimize(cost)"
   ]
  },
  {
   "cell_type": "code",
   "execution_count": 21,
   "metadata": {
    "collapsed": true
   },
   "outputs": [],
   "source": [
    "init = tf.initialize_all_variables()"
   ]
  },
  {
   "cell_type": "code",
   "execution_count": 33,
   "metadata": {
    "collapsed": false
   },
   "outputs": [
    {
     "name": "stdout",
     "output_type": "stream",
     "text": [
      "0\t0.961982\t[ 2.56163359]\t[ 1.93771422]\n",
      "1\t0.270183\t[ 2.19568992]\t[ 1.79218459]\n",
      "2\t0.260061\t[ 2.22950554]\t[ 1.82213843]\n",
      "3\t0.258169\t[ 2.2197783]\t[ 1.8325752]\n",
      "4\t0.256461\t[ 2.21495509]\t[ 1.84481549]\n",
      "5\t0.254834\t[ 2.20973754]\t[ 1.85653698]\n",
      "6\t0.253285\t[ 2.20470119]\t[ 1.86800122]\n",
      "7\t0.25181\t[ 2.19977975]\t[ 1.87918723]\n",
      "8\t0.250404\t[ 2.19497705]\t[ 1.89010453]\n",
      "9\t0.249066\t[ 2.19028997]\t[ 1.90075946]\n",
      "10\t0.247791\t[ 2.18571568]\t[ 1.9111582]\n",
      "11\t0.246576\t[ 2.18125105]\t[ 1.92130697]\n",
      "12\t0.245419\t[ 2.17689395]\t[ 1.93121183]\n",
      "13\t0.244317\t[ 2.17264175]\t[ 1.94087863]\n",
      "14\t0.243268\t[ 2.16849113]\t[ 1.95031285]\n",
      "15\t0.242268\t[ 2.16444111]\t[ 1.95952046]\n",
      "16\t0.241316\t[ 2.16048789]\t[ 1.96850657]\n",
      "17\t0.240409\t[ 2.15663004]\t[ 1.9772768]\n",
      "18\t0.239545\t[ 2.15286469]\t[ 1.98583615]\n",
      "19\t0.238722\t[ 2.14918995]\t[ 1.99418974]\n"
     ]
    }
   ],
   "source": [
    "with tf.Session() as sess:\n",
    "    sess.run(init)\n",
    "    \n",
    "    for step in range(20):\n",
    "        sess.run(train)\n",
    "        print(step, sess.run(cost), sess.run(W), sess.run(b), sep='\\t')"
   ]
  },
  {
   "cell_type": "markdown",
   "metadata": {},
   "source": [
    "### cost 값이 점점 줄어들면서, W와 b 가 어느 값으로 수렴해가는 모습이 보이나요?"
   ]
  },
  {
   "cell_type": "markdown",
   "metadata": {},
   "source": [
    "## Bonus : matplotlib.pyplot 으로 그래프 그리며 insight 를 얻기 "
   ]
  },
  {
   "cell_type": "code",
   "execution_count": 34,
   "metadata": {
    "collapsed": true
   },
   "outputs": [],
   "source": [
    "import matplotlib.pyplot as plt"
   ]
  },
  {
   "cell_type": "code",
   "execution_count": 35,
   "metadata": {
    "collapsed": false
   },
   "outputs": [
    {
     "data": {
      "image/png": "[encoded data removed]",
      "text/plain": [
       "<matplotlib.figure.Figure at 0x10c24def0>"
      ]
     },
     "metadata": {},
     "output_type": "display_data"
    }
   ],
   "source": [
    "plt.plot([1,2,3,4])\n",
    "plt.ylabel('y-label')\n",
    "plt.xlabel('x-things')\n",
    "plt.show()"
   ]
  },
  {
   "cell_type": "markdown",
   "metadata": {},
   "source": [
    "### 위에서 작업했던 것에서 cost 값을 그래프로 보면 어떻게 변하는지 확인해봅시다"
   ]
  },
  {
   "cell_type": "code",
   "execution_count": 42,
   "metadata": {
    "collapsed": true
   },
   "outputs": [],
   "source": [
    "init = tf.initialize_all_variables()\n",
    "cost_changes = []\n",
    "b_changes = []"
   ]
  },
  {
   "cell_type": "code",
   "execution_count": 43,
   "metadata": {
    "collapsed": false
   },
   "outputs": [],
   "source": [
    "with tf.Session() as sess:\n",
    "    sess.run(init)\n",
    "    \n",
    "    for step in range(20):\n",
    "        sess.run(train)\n",
    "        cost_changes.append(sess.run(cost))\n",
    "        b_changes.append(sess.run(b))"
   ]
  },
  {
   "cell_type": "code",
   "execution_count": 44,
   "metadata": {
    "collapsed": false
   },
   "outputs": [
    {
     "data": {
      "image/png": "[encoded data removed]",
      "text/plain": [
       "<matplotlib.figure.Figure at 0x10c444c50>"
      ]
     },
     "metadata": {},
     "output_type": "display_data"
    },
    {
     "data": {
      "image/png": "[encoded data removed]",
      "text/plain": [
       "<matplotlib.figure.Figure at 0x10c5280f0>"
      ]
     },
     "metadata": {},
     "output_type": "display_data"
    }
   ],
   "source": [
    "plt.plot(range(20), cost_changes)\n",
    "plt.ylabel(\"Cost\")\n",
    "plt.xlabel('Step')\n",
    "plt.show()\n",
    "\n",
    "plt.plot(range(20), b_changes)\n",
    "plt.ylabel(\"b\")\n",
    "plt.xlabel('Step')\n",
    "plt.show()"
   ]
  },
  {
   "cell_type": "markdown",
   "metadata": {},
   "source": [
    "### 자세한 사용법과 응용법은 matplotlib 공식 홈페이지를 참조하면 좋습니다.\n",
    "* http://matplotlib.org/"
   ]
  },
  {
   "cell_type": "code",
   "execution_count": null,
   "metadata": {
    "collapsed": true
   },
   "outputs": [],
   "source": []
  }
 ],
 "metadata": {
  "kernelspec": {
   "display_name": "Python 3",
   "language": "python",
   "name": "python3"
  },
  "language_info": {
   "codemirror_mode": {
    "name": "ipython",
    "version": 3
   },
   "file_extension": ".py",
   "mimetype": "text/x-python",
   "name": "python",
   "nbconvert_exporter": "python",
   "pygments_lexer": "ipython3",
   "version": "3.5.1"
  }
 },
 "nbformat": 4,
 "nbformat_minor": 1
}
