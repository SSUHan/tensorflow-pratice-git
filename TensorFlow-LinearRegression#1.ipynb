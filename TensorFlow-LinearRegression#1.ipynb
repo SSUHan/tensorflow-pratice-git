{
 "cells": [
  {
   "cell_type": "markdown",
   "metadata": {},
   "source": [
    "# TensorFlow LinearRegression with single variables"
   ]
  },
  {
   "cell_type": "code",
   "execution_count": 1,
   "metadata": {
    "collapsed": true
   },
   "outputs": [],
   "source": [
    "import tensorflow as tf\n",
    "import numpy as np"
   ]
  },
  {
   "cell_type": "code",
   "execution_count": 2,
   "metadata": {
    "collapsed": true
   },
   "outputs": [],
   "source": [
    "num_points = 1000\n",
    "vectors_set = []\n",
    "for i in range(num_points):\n",
    "\tx1 = np.random.normal(0.0, 0.55) # normal distribution (mean, sigma)\n",
    "\ty1 = x1*0.1 + 0.3 + np.random.normal(0.0, 0.03)\n",
    "\tvectors_set.append([x1, y1])\n",
    "\n",
    "x_data = [v[0] for v in vectors_set]\n",
    "y_data = [v[1] for v in vectors_set]"
   ]
  },
  {
   "cell_type": "markdown",
   "metadata": {},
   "source": [
    "### 뭘 만드려고 한걸까요?"
   ]
  },
  {
   "cell_type": "code",
   "execution_count": 3,
   "metadata": {
    "collapsed": false
   },
   "outputs": [
    {
     "data": {
      "text/plain": [
       "[<matplotlib.lines.Line2D at 0x10eb697b8>]"
      ]
     },
     "execution_count": 3,
     "metadata": {},
     "output_type": "execute_result"
    }
   ],
   "source": [
    "import matplotlib.pyplot as plt\n",
    "plt.plot(x_data, y_data, 'ro', label='Original data')\n",
    "# plt.show()"
   ]
  },
  {
   "cell_type": "code",
   "execution_count": 4,
   "metadata": {
    "collapsed": true
   },
   "outputs": [],
   "source": [
    "W = tf.Variable(tf.random_uniform([1], -1.0, 1.0))\n",
    "b = tf.Variable(tf.zeros([1]))\n",
    "h = W * x_data + b\n",
    "cost = tf.reduce_mean(tf.square(h - y_data))"
   ]
  },
  {
   "cell_type": "code",
   "execution_count": 5,
   "metadata": {
    "collapsed": true
   },
   "outputs": [],
   "source": [
    "alpha = 0.5"
   ]
  },
  {
   "cell_type": "code",
   "execution_count": 6,
   "metadata": {
    "collapsed": true
   },
   "outputs": [],
   "source": [
    "optimizer = tf.train.GradientDescentOptimizer(alpha)\n",
    "train = optimizer.minimize(cost)"
   ]
  },
  {
   "cell_type": "code",
   "execution_count": 7,
   "metadata": {
    "collapsed": true
   },
   "outputs": [],
   "source": [
    "init = tf.initialize_all_variables()"
   ]
  },
  {
   "cell_type": "code",
   "execution_count": 9,
   "metadata": {
    "collapsed": false
   },
   "outputs": [
    {
     "name": "stdout",
     "output_type": "stream",
     "text": [
      "0 [ 0.67862904] [ 0.29815266] 0.103953\n",
      "1 [ 0.50047052] [ 0.29911971] 0.0502544\n",
      "2 [ 0.37722713] [ 0.29979295] 0.0245576\n",
      "3 [ 0.29197192] [ 0.30025867] 0.0122607\n",
      "4 [ 0.23299554] [ 0.30058083] 0.00637624\n",
      "5 [ 0.19219787] [ 0.30080369] 0.0035603\n",
      "6 [ 0.16397558] [ 0.30095786] 0.00221278\n",
      "7 [ 0.14445245] [ 0.30106449] 0.00156794\n"
     ]
    }
   ],
   "source": [
    "with tf.Session() as sess:\n",
    "    sess.run(init)\n",
    "    \n",
    "    for step in range(8):\n",
    "        sess.run(train)\n",
    "\n",
    "        print(step, sess.run(W), sess.run(b), sess.run(cost))\n",
    "        plt.plot(x_data, y_data, 'ro', label='Original data')\n",
    "        plt.plot(x_data, sess.run(W)*x_data+sess.run(b), 'y-', label='hyper function')\n",
    "        plt.xlabel('x')\n",
    "        plt.xlim(-2, 2)\n",
    "        plt.ylabel('y')\n",
    "        plt.ylim(0.1, 0.6)\n",
    "        plt.legend()\n",
    "        # plt.show()"
   ]
  },
  {
   "cell_type": "code",
   "execution_count": null,
   "metadata": {
    "collapsed": true
   },
   "outputs": [],
   "source": []
  }
 ],
 "metadata": {
  "kernelspec": {
   "display_name": "Python 3",
   "language": "python",
   "name": "python3"
  },
  "language_info": {
   "codemirror_mode": {
    "name": "ipython",
    "version": 3
   },
   "file_extension": ".py",
   "mimetype": "text/x-python",
   "name": "python",
   "nbconvert_exporter": "python",
   "pygments_lexer": "ipython3",
   "version": "3.5.1"
  }
 },
 "nbformat": 4,
 "nbformat_minor": 1
}
