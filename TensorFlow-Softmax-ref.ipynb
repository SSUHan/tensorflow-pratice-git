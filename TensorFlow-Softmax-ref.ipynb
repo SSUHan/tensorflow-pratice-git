{
 "cells": [
  {
   "cell_type": "markdown",
   "metadata": {},
   "source": [
    "## Softmax Classification 구현하기"
   ]
  },
  {
   "cell_type": "code",
   "execution_count": 1,
   "metadata": {
    "collapsed": false
   },
   "outputs": [],
   "source": [
    "import tensorflow as tf\n",
    "import numpy as np"
   ]
  },
  {
   "cell_type": "code",
   "execution_count": 2,
   "metadata": {
    "collapsed": false
   },
   "outputs": [
    {
     "data": {
      "text/plain": [
       "array([[ 1.,  1.,  1.,  1.,  1.,  1.,  1.,  1.],\n",
       "       [ 2.,  3.,  3.,  5.,  7.,  2.,  6.,  7.],\n",
       "       [ 1.,  2.,  4.,  5.,  5.,  5.,  6.,  7.],\n",
       "       [ 0.,  0.,  0.,  0.,  0.,  0.,  1.,  1.],\n",
       "       [ 0.,  0.,  0.,  1.,  1.,  1.,  0.,  0.],\n",
       "       [ 1.,  1.,  1.,  0.,  0.,  0.,  0.,  0.]], dtype=float32)"
      ]
     },
     "execution_count": 2,
     "metadata": {},
     "output_type": "execute_result"
    }
   ],
   "source": [
    "# unpack = True 로 가져오면, 텍스트 데이터에서 행 단위 데이터 규칙을 열로 바꿔서 가져오게 된다. (Transpose)\n",
    "xy_true = np.loadtxt('train_softmax.txt', unpack=True, dtype='float32')\n",
    "xy_true"
   ]
  },
  {
   "cell_type": "code",
   "execution_count": 3,
   "metadata": {
    "collapsed": false
   },
   "outputs": [
    {
     "data": {
      "text/plain": [
       "array([[ 1.,  2.,  1.,  0.,  0.,  1.],\n",
       "       [ 1.,  3.,  2.,  0.,  0.,  1.],\n",
       "       [ 1.,  3.,  4.,  0.,  0.,  1.],\n",
       "       [ 1.,  5.,  5.,  0.,  1.,  0.],\n",
       "       [ 1.,  7.,  5.,  0.,  1.,  0.],\n",
       "       [ 1.,  2.,  5.,  0.,  1.,  0.],\n",
       "       [ 1.,  6.,  6.,  1.,  0.,  0.],\n",
       "       [ 1.,  7.,  7.,  1.,  0.,  0.]], dtype=float32)"
      ]
     },
     "execution_count": 3,
     "metadata": {},
     "output_type": "execute_result"
    }
   ],
   "source": [
    "# unpack=false 로 하면, 텍스트 데이터에서 행 단위 데이터 규칙을 그대로 들고 들어오게 된다.\n",
    "xy_false = np.loadtxt('train_softmax.txt', unpack=False, dtype='float32')\n",
    "xy_false"
   ]
  },
  {
   "cell_type": "code",
   "execution_count": 4,
   "metadata": {
    "collapsed": false
   },
   "outputs": [
    {
     "data": {
      "text/plain": [
       "array([[ 1.,  1.,  1.,  1.,  1.,  1.,  1.,  1.],\n",
       "       [ 2.,  3.,  3.,  5.,  7.,  2.,  6.,  7.],\n",
       "       [ 1.,  2.,  4.,  5.,  5.,  5.,  6.,  7.]], dtype=float32)"
      ]
     },
     "execution_count": 4,
     "metadata": {},
     "output_type": "execute_result"
    }
   ],
   "source": [
    "# unpack = False 로 가지고 왔다면, 우리가 원하는 matmul 를 하기 위해서 다음과 같은 작업을 해주어야 함.\n",
    "x_data1 = np.transpose(xy_false[:,0:3])\n",
    "x_data1"
   ]
  },
  {
   "cell_type": "code",
   "execution_count": 5,
   "metadata": {
    "collapsed": false
   },
   "outputs": [
    {
     "data": {
      "text/plain": [
       "array([[ 1.,  1.,  1.,  1.,  1.,  1.,  1.,  1.],\n",
       "       [ 2.,  3.,  3.,  5.,  7.,  2.,  6.,  7.],\n",
       "       [ 1.,  2.,  4.,  5.,  5.,  5.,  6.,  7.]], dtype=float32)"
      ]
     },
     "execution_count": 5,
     "metadata": {},
     "output_type": "execute_result"
    }
   ],
   "source": [
    "# unpack = Ture 로 가지고 왔따면, 우리가 원하는 matmul 을 하기 위해서 다음과 같은 작업을 해주어야 함.\n",
    "x_data2 = xy_true[0:3]\n",
    "x_data2"
   ]
  },
  {
   "cell_type": "code",
   "execution_count": 6,
   "metadata": {
    "collapsed": false
   },
   "outputs": [
    {
     "data": {
      "text/plain": [
       "array([[ 0.,  0.,  0.,  0.,  0.,  0.,  1.,  1.],\n",
       "       [ 0.,  0.,  0.,  1.,  1.,  1.,  0.,  0.],\n",
       "       [ 1.,  1.,  1.,  0.,  0.,  0.,  0.,  0.]], dtype=float32)"
      ]
     },
     "execution_count": 6,
     "metadata": {},
     "output_type": "execute_result"
    }
   ],
   "source": [
    "y_data = xy_true[3:]\n",
    "y_data"
   ]
  },
  {
   "cell_type": "code",
   "execution_count": 7,
   "metadata": {
    "collapsed": false
   },
   "outputs": [],
   "source": [
    "X = tf.placeholder(\"float\", [3, None]) # x0 = 1, x1, x2\n",
    "Y = tf.placeholder(\"float\", [3, None]) # A, B ,C => 3 classes"
   ]
  },
  {
   "cell_type": "code",
   "execution_count": 8,
   "metadata": {
    "collapsed": true
   },
   "outputs": [],
   "source": [
    "W = tf.Variable(tf.zeros([3, 3]))"
   ]
  },
  {
   "cell_type": "code",
   "execution_count": 9,
   "metadata": {
    "collapsed": true
   },
   "outputs": [],
   "source": [
    "# define hypothesis \n",
    "hypo = tf.nn.softmax(tf.matmul(W,X))"
   ]
  },
  {
   "cell_type": "code",
   "execution_count": 10,
   "metadata": {
    "collapsed": true
   },
   "outputs": [],
   "source": [
    "# cross entropy\n",
    "cost = tf.reduce_mean(-tf.reduce_sum(Y*tf.log(hypo), reduction_indices=0))"
   ]
  },
  {
   "cell_type": "code",
   "execution_count": 11,
   "metadata": {
    "collapsed": true
   },
   "outputs": [],
   "source": [
    "alpha = 0.001\n",
    "# Gradient Descent\n",
    "optimizer = tf.train.GradientDescentOptimizer(alpha)\n",
    "train = optimizer.minimize(cost)"
   ]
  },
  {
   "cell_type": "code",
   "execution_count": 12,
   "metadata": {
    "collapsed": true
   },
   "outputs": [],
   "source": [
    "init = tf.initialize_all_variables()"
   ]
  },
  {
   "cell_type": "code",
   "execution_count": 13,
   "metadata": {
    "collapsed": false
   },
   "outputs": [
    {
     "name": "stdout",
     "output_type": "stream",
     "text": [
      "step :  0\n",
      "2.07782\n",
      "[[ 0.          0.00053125  0.00053125]\n",
      " [ 0.          0.00010938  0.00023438]\n",
      " [ 0.         -0.00064063 -0.00076563]]\n",
      "==================================================\n",
      "step :  200\n",
      "1.85745\n",
      "[[  1.19209309e-10   9.07488465e-02   9.23793986e-02]\n",
      " [ -1.93715127e-10   1.51096852e-02   3.99405174e-02]\n",
      " [  8.19563445e-11  -9.95296910e-02  -1.24555431e-01]]\n",
      "==================================================\n",
      "step :  400\n",
      "1.75546\n",
      "[[  2.53319671e-10   1.56199083e-01   1.62881523e-01]\n",
      " [ -6.25848817e-10   2.03543939e-02   6.92086965e-02]\n",
      " [ -2.71946299e-10  -1.59219965e-01  -2.05115169e-01]]\n",
      "==================================================\n",
      "step :  600\n",
      "1.70223\n",
      "[[  1.41561096e-10   2.05197603e-01   2.19695553e-01]\n",
      " [ -5.51343193e-10   1.99079700e-02   9.19030607e-02]\n",
      " [  8.28877383e-11  -1.97819471e-01  -2.59295166e-01]]\n",
      "==================================================\n",
      "step :  800\n",
      "1.67124\n",
      "[[  4.13507478e-10   2.43036360e-01   2.67285287e-01]\n",
      " [ -6.14672868e-10   1.62074920e-02   1.10297851e-01]\n",
      " [ -1.31316499e-10  -2.24294260e-01  -2.96930581e-01]]\n",
      "==================================================\n",
      "step :  1000\n",
      "1.65154\n",
      "[[  4.99188912e-10   2.73000717e-01   3.08299124e-01]\n",
      " [ -8.38190184e-10   1.07222311e-02   1.25766039e-01]\n",
      " [ -6.10015857e-11  -2.43264869e-01  -3.23712379e-01]]\n",
      "==================================================\n",
      "step :  1200\n",
      "1.6381\n",
      "[[  2.60770433e-10   2.97188312e-01   3.44390303e-01]\n",
      " [ -4.20957935e-10   4.34221653e-03   1.39157027e-01]\n",
      " [  7.63684671e-11  -2.57310212e-01  -3.43092501e-01]]\n",
      "==================================================\n",
      "step :  1400\n",
      "1.62841\n",
      "[[ -9.31304166e-12   3.16993505e-01   3.76647145e-01]\n",
      " [ -5.84870985e-10  -2.39375723e-03   1.51008517e-01]\n",
      " [ -6.30039576e-10  -2.67977417e-01  -3.57272208e-01]]\n",
      "==================================================\n",
      "step :  1600\n",
      "1.62112\n",
      "[[ -1.00582681e-10   3.33378583e-01   4.05821741e-01]\n",
      " [ -7.93486998e-10  -9.16223042e-03   1.61668777e-01]\n",
      " [ -6.73811784e-10  -2.76250333e-01  -3.67715806e-01]]\n",
      "==================================================\n",
      "step :  1800\n",
      "1.61543\n",
      "[[ -4.93599328e-11   3.47032279e-01   4.32455391e-01]\n",
      " [ -8.97794949e-10  -1.57728605e-02   1.71369135e-01]\n",
      " [ -6.20726359e-10  -2.82782674e-01  -3.75430137e-01]]\n",
      "==================================================\n",
      "[[ 1.]\n",
      " [ 1.]\n",
      " [ 1.]] [0 0 0]\n"
     ]
    }
   ],
   "source": [
    "sess = tf.Session()\n",
    "sess.run(init)\n",
    "for step in range(2000):\n",
    "    sess.run(train, feed_dict={X:x_data2, Y:y_data})\n",
    "    if step % 200 ==0 :\n",
    "        print(\"step : \", step)\n",
    "        print(sess.run(cost, feed_dict={X:x_data2, Y:y_data}))\n",
    "        print(sess.run(W))\n",
    "        print('='*50)\n",
    "\n",
    "test_a = np.transpose([[1, 11, 7]])\n",
    "a = sess.run(hypo, feed_dict={X:test_a})\n",
    "print(a, sess.run(tf.arg_max(a,1)))"
   ]
  },
  {
   "cell_type": "markdown",
   "metadata": {
    "collapsed": true
   },
   "source": [
    "### 잘 되었는지 확인하기 위해서"
   ]
  },
  {
   "cell_type": "code",
   "execution_count": 14,
   "metadata": {
    "collapsed": false
   },
   "outputs": [
    {
     "data": {
      "text/plain": [
       "array([[  2.42145679e-11,   3.58409137e-01,   4.56833124e-01],\n",
       "       [ -8.45640724e-10,  -2.20868848e-02,   1.80225194e-01],\n",
       "       [ -7.72066411e-10,  -2.88001567e-01,  -3.81102502e-01]], dtype=float32)"
      ]
     },
     "execution_count": 14,
     "metadata": {},
     "output_type": "execute_result"
    }
   ],
   "source": [
    "sess.run(W)"
   ]
  },
  {
   "cell_type": "code",
   "execution_count": 15,
   "metadata": {
    "collapsed": false
   },
   "outputs": [
    {
     "data": {
      "text/plain": [
       "array([[ 1.],\n",
       "       [ 1.],\n",
       "       [ 1.]], dtype=float32)"
      ]
     },
     "execution_count": 15,
     "metadata": {},
     "output_type": "execute_result"
    }
   ],
   "source": [
    "a = sess.run(hypo, feed_dict={X:test_a})\n",
    "a"
   ]
  },
  {
   "cell_type": "code",
   "execution_count": 16,
   "metadata": {
    "collapsed": false
   },
   "outputs": [
    {
     "data": {
      "text/plain": [
       "array([[ 1],\n",
       "       [11],\n",
       "       [ 7]])"
      ]
     },
     "execution_count": 16,
     "metadata": {},
     "output_type": "execute_result"
    }
   ],
   "source": [
    "test_a = np.transpose([[1, 11, 7]])\n",
    "test_a"
   ]
  },
  {
   "cell_type": "code",
   "execution_count": 17,
   "metadata": {
    "collapsed": false
   },
   "outputs": [
    {
     "name": "stdout",
     "output_type": "stream",
     "text": [
      "[[ 1.]\n",
      " [ 1.]\n",
      " [ 1.]] [0 0 0]\n"
     ]
    }
   ],
   "source": [
    "a = sess.run(hypo, feed_dict={X:test_a})\n",
    "print(a, sess.run(tf.arg_max(a,1)))"
   ]
  },
  {
   "cell_type": "code",
   "execution_count": 18,
   "metadata": {
    "collapsed": false
   },
   "outputs": [
    {
     "data": {
      "text/plain": [
       "array([[1],\n",
       "       [3],\n",
       "       [4]])"
      ]
     },
     "execution_count": 18,
     "metadata": {},
     "output_type": "execute_result"
    }
   ],
   "source": [
    "test_b = np.transpose([[1, 3, 4]])\n",
    "test_b"
   ]
  },
  {
   "cell_type": "code",
   "execution_count": 19,
   "metadata": {
    "collapsed": false
   },
   "outputs": [
    {
     "name": "stdout",
     "output_type": "stream",
     "text": [
      "[[ 1.]\n",
      " [ 1.]\n",
      " [ 1.]] [0 0 0]\n"
     ]
    }
   ],
   "source": [
    "b = sess.run(hypo, feed_dict={X:test_b})\n",
    "print(b, sess.run(tf.arg_max(b,1)))"
   ]
  },
  {
   "cell_type": "code",
   "execution_count": 20,
   "metadata": {
    "collapsed": false
   },
   "outputs": [
    {
     "data": {
      "text/plain": [
       "array([[1],\n",
       "       [1],\n",
       "       [0]])"
      ]
     },
     "execution_count": 20,
     "metadata": {},
     "output_type": "execute_result"
    }
   ],
   "source": [
    "test_c = np.transpose([[1, 1, 0]])\n",
    "test_c"
   ]
  },
  {
   "cell_type": "code",
   "execution_count": 21,
   "metadata": {
    "collapsed": false
   },
   "outputs": [
    {
     "name": "stdout",
     "output_type": "stream",
     "text": [
      "[[ 1.]\n",
      " [ 1.]\n",
      " [ 1.]] [0 0 0]\n"
     ]
    }
   ],
   "source": [
    "c = sess.run(hypo, feed_dict={X:test_c})\n",
    "print(c, sess.run(tf.arg_max(c, 1)))"
   ]
  },
  {
   "cell_type": "code",
   "execution_count": 22,
   "metadata": {
    "collapsed": false
   },
   "outputs": [
    {
     "data": {
      "text/plain": [
       "array([7])"
      ]
     },
     "execution_count": 22,
     "metadata": {},
     "output_type": "execute_result"
    }
   ],
   "source": [
    "test_all = test_a\n",
    "test_all[-1]"
   ]
  },
  {
   "cell_type": "code",
   "execution_count": null,
   "metadata": {
    "collapsed": true
   },
   "outputs": [],
   "source": []
  }
 ],
 "metadata": {
  "kernelspec": {
   "display_name": "Python 3",
   "language": "python",
   "name": "python3"
  },
  "language_info": {
   "codemirror_mode": {
    "name": "ipython",
    "version": 3
   },
   "file_extension": ".py",
   "mimetype": "text/x-python",
   "name": "python",
   "nbconvert_exporter": "python",
   "pygments_lexer": "ipython3",
   "version": "3.5.1"
  }
 },
 "nbformat": 4,
 "nbformat_minor": 1
}
