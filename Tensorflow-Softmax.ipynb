{
 "cells": [
  {
   "cell_type": "markdown",
   "metadata": {},
   "source": [
    "# Tensorflow Softmax Tutorial"
   ]
  },
  {
   "cell_type": "code",
   "execution_count": 1,
   "metadata": {
    "collapsed": true
   },
   "outputs": [],
   "source": [
    "import tensorflow as tf\n",
    "import numpy as np"
   ]
  },
  {
   "cell_type": "markdown",
   "metadata": {},
   "source": [
    "## 데이터를 로드할 때, 어떠한 구조로 가져올 것인지 결정하는 것이 중요합니다\n",
    "\n",
    "### 만약 파일에서, 하나의 row 가 하나의 데이터를 의미하고, column 이 attribute 를 의미한다면\n",
    "* unpack = True 로 가져오면, row 가 attributes 를 표현하게 됩니다. (Transpose 한 효과)\n",
    "* unpack = False 로 가져오면, row 가 그대로 하나의 데이터 정보로 유지가 됩니다."
   ]
  },
  {
   "cell_type": "code",
   "execution_count": 3,
   "metadata": {
    "collapsed": false
   },
   "outputs": [
    {
     "data": {
      "text/plain": [
       "array([[ 1.,  1.,  1.,  1.,  1.,  1.,  1.,  1.],\n",
       "       [ 2.,  3.,  3.,  5.,  7.,  2.,  6.,  7.],\n",
       "       [ 1.,  2.,  4.,  5.,  5.,  5.,  6.,  7.],\n",
       "       [ 0.,  0.,  0.,  0.,  0.,  0.,  1.,  1.],\n",
       "       [ 0.,  0.,  0.,  1.,  1.,  1.,  0.,  0.],\n",
       "       [ 1.,  1.,  1.,  0.,  0.,  0.,  0.,  0.]], dtype=float32)"
      ]
     },
     "execution_count": 3,
     "metadata": {},
     "output_type": "execute_result"
    }
   ],
   "source": [
    "xy = np.loadtxt('train_softmax.txt', unpack=True, dtype='float32')\n",
    "xy"
   ]
  },
  {
   "cell_type": "code",
   "execution_count": 26,
   "metadata": {
    "collapsed": false
   },
   "outputs": [
    {
     "data": {
      "text/plain": [
       "array([[ 1.,  2.,  1.,  0.,  0.,  1.],\n",
       "       [ 1.,  3.,  2.,  0.,  0.,  1.],\n",
       "       [ 1.,  3.,  4.,  0.,  0.,  1.],\n",
       "       [ 1.,  5.,  5.,  0.,  1.,  0.],\n",
       "       [ 1.,  7.,  5.,  0.,  1.,  0.],\n",
       "       [ 1.,  2.,  5.,  0.,  1.,  0.],\n",
       "       [ 1.,  6.,  6.,  1.,  0.,  0.],\n",
       "       [ 1.,  7.,  7.,  1.,  0.,  0.]], dtype=float32)"
      ]
     },
     "execution_count": 26,
     "metadata": {},
     "output_type": "execute_result"
    }
   ],
   "source": [
    "xy2 = np.loadtxt('train_softmax.txt', unpack=False, dtype='float32')\n",
    "xy2"
   ]
  },
  {
   "cell_type": "markdown",
   "metadata": {},
   "source": [
    "### row 기준의 데이터의 형태를 유지시켜 주는 것이, 행렬 계산할 때, 비교적 헷갈리지 않습니다.\n",
    "\n",
    "### 대신 그러기 위해서는 매트릭스 곱셈을 수행할 때는 \n",
    "### 우리가 일반적으로 생각하는 W*X 형태가 아닌,\n",
    "### X*W 형태가 됩니다.  (결과만 동일하면 되기 때문에, 크게 문제가 되지는 않습니다.)"
   ]
  },
  {
   "cell_type": "code",
   "execution_count": 4,
   "metadata": {
    "collapsed": false
   },
   "outputs": [
    {
     "data": {
      "text/plain": [
       "array([[ 1.,  2.,  1.],\n",
       "       [ 1.,  3.,  2.],\n",
       "       [ 1.,  3.,  4.],\n",
       "       [ 1.,  5.,  5.],\n",
       "       [ 1.,  7.,  5.],\n",
       "       [ 1.,  2.,  5.],\n",
       "       [ 1.,  6.,  6.],\n",
       "       [ 1.,  7.,  7.]], dtype=float32)"
      ]
     },
     "execution_count": 4,
     "metadata": {},
     "output_type": "execute_result"
    }
   ],
   "source": [
    "# unpack = True 라면 아래와 같이 데이터를 뽑아내고,\n",
    "x_data = np.transpose(xy[0:3])\n",
    "x_data"
   ]
  },
  {
   "cell_type": "code",
   "execution_count": 30,
   "metadata": {
    "collapsed": false
   },
   "outputs": [
    {
     "data": {
      "text/plain": [
       "array([[ 1.,  2.,  1.],\n",
       "       [ 1.,  3.,  2.],\n",
       "       [ 1.,  3.,  4.],\n",
       "       [ 1.,  5.,  5.],\n",
       "       [ 1.,  7.,  5.],\n",
       "       [ 1.,  2.,  5.],\n",
       "       [ 1.,  6.,  6.],\n",
       "       [ 1.,  7.,  7.]], dtype=float32)"
      ]
     },
     "execution_count": 30,
     "metadata": {},
     "output_type": "execute_result"
    }
   ],
   "source": [
    "# unpack = False 라면 아래와 같이 데이터를 뽑아냅니다.\n",
    "x_data2 = xy2[:,0:3]\n",
    "x_data2"
   ]
  },
  {
   "cell_type": "code",
   "execution_count": 5,
   "metadata": {
    "collapsed": false
   },
   "outputs": [
    {
     "data": {
      "text/plain": [
       "array([[ 0.,  0.,  1.],\n",
       "       [ 0.,  0.,  1.],\n",
       "       [ 0.,  0.,  1.],\n",
       "       [ 0.,  1.,  0.],\n",
       "       [ 0.,  1.,  0.],\n",
       "       [ 0.,  1.,  0.],\n",
       "       [ 1.,  0.,  0.],\n",
       "       [ 1.,  0.,  0.]], dtype=float32)"
      ]
     },
     "execution_count": 5,
     "metadata": {},
     "output_type": "execute_result"
    }
   ],
   "source": [
    "y_data = np.transpose(xy[3:])\n",
    "y_data"
   ]
  },
  {
   "cell_type": "code",
   "execution_count": 7,
   "metadata": {
    "collapsed": true
   },
   "outputs": [],
   "source": [
    "X = tf.placeholder('float', [None, 3]) # (?, 3) 형태의 매트릭스가 들어올 공간을 정의합니다. 여기서는 x0, x1, x2 가 들어오겠군요.\n",
    "Y = tf.placeholder('float', [None, 3]) # 마찬가지"
   ]
  },
  {
   "cell_type": "code",
   "execution_count": 8,
   "metadata": {
    "collapsed": true
   },
   "outputs": [],
   "source": [
    "W = tf.Variable(tf.zeros([3,3]))"
   ]
  },
  {
   "cell_type": "code",
   "execution_count": 9,
   "metadata": {
    "collapsed": true
   },
   "outputs": [],
   "source": [
    "hypo = tf.nn.softmax(tf.matmul(X, W))"
   ]
  },
  {
   "cell_type": "code",
   "execution_count": 10,
   "metadata": {
    "collapsed": true
   },
   "outputs": [],
   "source": [
    "alpha = 0.001\n",
    "cost = tf.reduce_mean(-tf.reduce_sum(Y*tf.log(hypo), reduction_indices=1))"
   ]
  },
  {
   "cell_type": "code",
   "execution_count": 11,
   "metadata": {
    "collapsed": true
   },
   "outputs": [],
   "source": [
    "optimizer = tf.train.GradientDescentOptimizer(alpha).minimize(cost)"
   ]
  },
  {
   "cell_type": "code",
   "execution_count": 12,
   "metadata": {
    "collapsed": true
   },
   "outputs": [],
   "source": [
    "init = tf.initialize_all_variables()\n",
    "sess = tf.Session()\n",
    "sess.run(init)"
   ]
  },
  {
   "cell_type": "code",
   "execution_count": 15,
   "metadata": {
    "collapsed": false
   },
   "outputs": [
    {
     "name": "stdout",
     "output_type": "stream",
     "text": [
      "step :  0\n",
      "cost :  1.09608\n",
      "[[-0.00025136  0.00012188  0.00012948]\n",
      " [ 0.00049295  0.00085905 -0.00135199]\n",
      " [ 0.00049303  0.0012341  -0.00172713]]\n",
      "============================================================\n",
      "step :  200\n",
      "cost :  1.05951\n",
      "[[-0.02073397 -0.00108681  0.02182078]\n",
      " [ 0.01411936  0.0109053  -0.02502465]\n",
      " [ 0.01437138  0.03591624 -0.0502876 ]]\n",
      "============================================================\n",
      "step :  400\n",
      "cost :  1.04976\n",
      "[[-0.04305011 -0.00631357  0.04936369]\n",
      " [ 0.01749462  0.00146169 -0.0189563 ]\n",
      " [ 0.01834226  0.04966335 -0.06800557]]\n",
      "============================================================\n",
      "step :  600\n",
      "cost :  1.04061\n",
      "[[-0.06540124 -0.01181888  0.07722014]\n",
      " [ 0.01945293 -0.00858766 -0.01086525]\n",
      " [ 0.02118363  0.06129476 -0.0824783 ]]\n",
      "============================================================\n",
      "step :  800\n",
      "cost :  1.03186\n",
      "[[-0.08756066 -0.0173492   0.1049099 ]\n",
      " [ 0.02113326 -0.01805311 -0.00308015]\n",
      " [ 0.02399478  0.07208792 -0.09608269]]\n",
      "============================================================\n",
      "step :  1000\n",
      "cost :  1.02346\n",
      "[[-0.1095041  -0.02287706  0.13238117]\n",
      " [ 0.02267741 -0.02686532  0.00418794]\n",
      " [ 0.02688788  0.08220155 -0.10908943]]\n",
      "============================================================\n",
      "step :  1200\n",
      "cost :  1.01539\n",
      "[[-0.13123088 -0.02839605  0.15962695]\n",
      " [ 0.02411086 -0.03505516  0.01094435]\n",
      " [ 0.02986211  0.09168992 -0.12155204]]\n",
      "============================================================\n",
      "step :  1400\n",
      "cost :  1.00762\n",
      "[[-0.15274313 -0.03390213  0.18664524]\n",
      " [ 0.02544592 -0.04266169  0.01721583]\n",
      " [ 0.0329054   0.10059433 -0.13349973]]\n",
      "============================================================\n",
      "step :  1600\n",
      "cost :  1.00014\n",
      "[[-0.17404337 -0.03939173  0.21343507]\n",
      " [ 0.02669288 -0.04972267  0.02302986]\n",
      " [ 0.03600551  0.10895235 -0.14495789]]\n",
      "============================================================\n",
      "step :  1800\n",
      "cost :  0.992908\n",
      "[[-0.19513445 -0.04486147  0.23999593]\n",
      " [ 0.02786125 -0.05627367  0.02841251]\n",
      " [ 0.03915119  0.11679918 -0.15595034]]\n",
      "============================================================\n"
     ]
    }
   ],
   "source": [
    "for step in range(2000):\n",
    "    sess.run(optimizer, feed_dict={X:x_data, Y:y_data})\n",
    "    if step % 200 == 0:\n",
    "        print(\"step : \", step)\n",
    "        print(\"cost : \", sess.run(cost, feed_dict={X:x_data, Y:y_data}))\n",
    "        print(sess.run(W))\n",
    "        print(\"=\"*60)\n",
    "        "
   ]
  },
  {
   "cell_type": "markdown",
   "metadata": {},
   "source": [
    "### 여기서 우리가 row 형태의 데이터 형식을 유지시켜준 편의를 느낄 수 있습니다"
   ]
  },
  {
   "cell_type": "code",
   "execution_count": 20,
   "metadata": {
    "collapsed": false
   },
   "outputs": [
    {
     "name": "stdout",
     "output_type": "stream",
     "text": [
      "[[ 0.46275628  0.35479435  0.18244931]] [0]\n"
     ]
    }
   ],
   "source": [
    "data_a = [1,11,7]\n",
    "a = sess.run(hypo, feed_dict={X:[data_a]})\n",
    "print(a, sess.run(tf.arg_max(a, 1)))"
   ]
  },
  {
   "cell_type": "code",
   "execution_count": 21,
   "metadata": {
    "collapsed": false
   },
   "outputs": [
    {
     "name": "stdout",
     "output_type": "stream",
     "text": [
      "[[ 0.26998979  0.29083177  0.4391785 ]] [2]\n"
     ]
    }
   ],
   "source": [
    "data_c = [1,1,0]\n",
    "c = sess.run(hypo, feed_dict={X:[data_c]})\n",
    "print(c, sess.run(tf.arg_max(c, 1)))"
   ]
  },
  {
   "cell_type": "code",
   "execution_count": 23,
   "metadata": {
    "collapsed": false
   },
   "outputs": [
    {
     "name": "stdout",
     "output_type": "stream",
     "text": [
      "[[ 0.33819196  0.42102447  0.24078354]] [1]\n"
     ]
    }
   ],
   "source": [
    "data_b = [1, 3, 4]\n",
    "b = sess.run(hypo, feed_dict={X:[data_b]})\n",
    "print(b,sess.run(tf.arg_max(b, 1)))"
   ]
  },
  {
   "cell_type": "code",
   "execution_count": 25,
   "metadata": {
    "collapsed": false
   },
   "outputs": [
    {
     "name": "stdout",
     "output_type": "stream",
     "text": [
      "[[ 0.46275634  0.35479441  0.18244931]\n",
      " [ 0.33819196  0.42102447  0.24078354]\n",
      " [ 0.26998979  0.29083174  0.4391785 ]]\n",
      "[0 1 2]\n"
     ]
    }
   ],
   "source": [
    "alls = sess.run(hypo, feed_dict={X:[data_a, data_b, data_c]})\n",
    "print(alls)\n",
    "print(sess.run(tf.arg_max(alls, 1)))"
   ]
  },
  {
   "cell_type": "code",
   "execution_count": null,
   "metadata": {
    "collapsed": true
   },
   "outputs": [],
   "source": []
  }
 ],
 "metadata": {
  "kernelspec": {
   "display_name": "Python 3",
   "language": "python",
   "name": "python3"
  },
  "language_info": {
   "codemirror_mode": {
    "name": "ipython",
    "version": 3
   },
   "file_extension": ".py",
   "mimetype": "text/x-python",
   "name": "python",
   "nbconvert_exporter": "python",
   "pygments_lexer": "ipython3",
   "version": "3.5.1"
  }
 },
 "nbformat": 4,
 "nbformat_minor": 1
}
