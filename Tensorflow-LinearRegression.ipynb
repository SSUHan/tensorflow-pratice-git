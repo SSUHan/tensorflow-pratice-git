{
 "cells": [
  {
   "cell_type": "markdown",
   "metadata": {},
   "source": [
    "## Import Modules"
   ]
  },
  {
   "cell_type": "code",
   "execution_count": 1,
   "metadata": {
    "collapsed": true
   },
   "outputs": [],
   "source": [
    "import tensorflow as tf\n",
    "import numpy as np"
   ]
  },
  {
   "cell_type": "code",
   "execution_count": 2,
   "metadata": {
    "collapsed": true
   },
   "outputs": [],
   "source": [
    "sess = tf.Session()"
   ]
  },
  {
   "cell_type": "markdown",
   "metadata": {},
   "source": [
    "### Multi Variable Linear Regression - using mathic expression"
   ]
  },
  {
   "cell_type": "code",
   "execution_count": 3,
   "metadata": {
    "collapsed": true
   },
   "outputs": [],
   "source": [
    "x1_data = [1,0,3,0,5]\n",
    "x2_data = [0,2,0,4,0]\n",
    "y_data = [1,2,3,4,5]"
   ]
  },
  {
   "cell_type": "code",
   "execution_count": 4,
   "metadata": {
    "collapsed": true
   },
   "outputs": [],
   "source": [
    "w1 = tf.Variable(tf.random_uniform([1], -1.0, 1.0))\n",
    "w2 = tf.Variable(tf.random_uniform([1], -1.0, 1.0))\n",
    "b = tf.Variable(tf.random_uniform([1], -1.0, 1.0))"
   ]
  },
  {
   "cell_type": "code",
   "execution_count": 5,
   "metadata": {
    "collapsed": false
   },
   "outputs": [
    {
     "data": {
      "text/plain": [
       "array([-1.25306869, -1.53550553, -3.17243171, -2.77762389, -5.09179497], dtype=float32)"
      ]
     },
     "execution_count": 5,
     "metadata": {},
     "output_type": "execute_result"
    }
   ],
   "source": [
    "# define hypothesis\n",
    "hypo = w1*x1_data + w2*x2_data + b\n",
    "init = tf.initialize_all_variables()\n",
    "sess.run(init)\n",
    "sess.run(hypo)"
   ]
  },
  {
   "cell_type": "code",
   "execution_count": 6,
   "metadata": {
    "collapsed": true
   },
   "outputs": [],
   "source": [
    "# define cost function\n",
    "cost = tf.reduce_mean(tf.square(hypo - y_data))"
   ]
  },
  {
   "cell_type": "code",
   "execution_count": 7,
   "metadata": {
    "collapsed": true
   },
   "outputs": [],
   "source": [
    "# minimize\n",
    "alpha = tf.Variable(0.1)\n",
    "optimizer = tf.train.GradientDescentOptimizer(alpha)\n",
    "train = optimizer.minimize(cost)"
   ]
  },
  {
   "cell_type": "code",
   "execution_count": 13,
   "metadata": {
    "collapsed": false
   },
   "outputs": [
    {
     "name": "stdout",
     "output_type": "stream",
     "text": [
      "0\n",
      "1\n",
      "2\n",
      "3\n",
      "4\n"
     ]
    }
   ],
   "source": [
    "for each in range(5):\n",
    "    print(each)"
   ]
  },
  {
   "cell_type": "code",
   "execution_count": 12,
   "metadata": {
    "collapsed": false
   },
   "outputs": [
    {
     "name": "stdout",
     "output_type": "stream",
     "text": [
      "step\tsess.run(cost)\tsess.run(w1)\tsess.run(w2)\tsess.run(b)\n",
      "0\t0.081404\t[ 0.99240679]\t[ 0.81610411]\t[ 0.2597627]\n",
      "10\t0.00716707\t[ 0.94729358]\t[ 0.93740946]\t[ 0.20070903]\n",
      "20\t0.00385652\t[ 0.96130055]\t[ 0.9540832]\t[ 0.1472186]\n",
      "30\t0.00207515\t[ 0.97161204]\t[ 0.96631789]\t[ 0.10799169]\n",
      "40\t0.00111662\t[ 0.9791761]\t[ 0.97529256]\t[ 0.07921693]\n",
      "50\t0.000600845\t[ 0.9847247]\t[ 0.98187596]\t[ 0.05810935]\n",
      "60\t0.000323309\t[ 0.98879486]\t[ 0.98670518]\t[ 0.04262591]\n",
      "70\t0.000173969\t[ 0.99178046]\t[ 0.99024761]\t[ 0.03126808]\n",
      "80\t9.36114e-05\t[ 0.99397069]\t[ 0.99284619]\t[ 0.02293661]\n",
      "90\t5.0371e-05\t[ 0.99557722]\t[ 0.99475235]\t[ 0.01682508]\n"
     ]
    }
   ],
   "source": [
    "# fitting\n",
    "init = tf.initialize_all_variables()\n",
    "sess.run(init)\n",
    "print(\"step\", \"sess.run(cost)\", \"sess.run(w1)\", \"sess.run(w2)\", \"sess.run(b)\", sep='\\t')\n",
    "for step in range(100):\n",
    "    sess.run(train)\n",
    "    if step % 10 == 0:\n",
    "        print(step, sess.run(cost), sess.run(w1), sess.run(w2), sess.run(b), sep='\\t')\n"
   ]
  },
  {
   "cell_type": "markdown",
   "metadata": {},
   "source": [
    "### Muti Variable Linear Regression - using matmul"
   ]
  },
  {
   "cell_type": "code",
   "execution_count": 18,
   "metadata": {
    "collapsed": true
   },
   "outputs": [],
   "source": [
    "x_data = [[1.,0,3,0,5],\n",
    "          [0.,2,0,4,0]]\n",
    "y_data = [1,2,3,4,5]"
   ]
  },
  {
   "cell_type": "code",
   "execution_count": 19,
   "metadata": {
    "collapsed": false
   },
   "outputs": [
    {
     "data": {
      "text/plain": [
       "array([[ 0.63414574, -0.80996203]], dtype=float32)"
      ]
     },
     "execution_count": 19,
     "metadata": {},
     "output_type": "execute_result"
    }
   ],
   "source": [
    "W = tf.Variable(tf.random_uniform([1,2], -1.0, 1.0))\n",
    "b = tf.Variable(tf.random_uniform([1], -1.0, 1.0))\n",
    "init = tf.initialize_all_variables()\n",
    "sess.run(init)\n",
    "sess.run(W)"
   ]
  },
  {
   "cell_type": "code",
   "execution_count": 20,
   "metadata": {
    "collapsed": false
   },
   "outputs": [],
   "source": [
    "# define hypothesis \n",
    "hypo = tf.matmul(W, x_data) + b"
   ]
  },
  {
   "cell_type": "code",
   "execution_count": 21,
   "metadata": {
    "collapsed": true
   },
   "outputs": [],
   "source": [
    "# define cost function\n",
    "cost = tf.reduce_mean(tf.square(hypo - y_data))"
   ]
  },
  {
   "cell_type": "code",
   "execution_count": 22,
   "metadata": {
    "collapsed": true
   },
   "outputs": [],
   "source": [
    "# minimize\n",
    "alpha = tf.Variable(0.1)\n",
    "optimizer = tf.train.GradientDescentOptimizer(alpha)\n",
    "train = optimizer.minimize(cost)"
   ]
  },
  {
   "cell_type": "code",
   "execution_count": 34,
   "metadata": {
    "collapsed": false
   },
   "outputs": [
    {
     "name": "stdout",
     "output_type": "stream",
     "text": [
      "step\tsess.run(cost)\t\tsess.run(W)\t\tsess.run(b)\n",
      "0\t7.27221\t[[ 1.65363216  0.55445492]]\t[ 1.3328408]\n",
      "10\t0.118946\t[[ 0.78608549  0.74510366]]\t[ 0.81786501]\n",
      "20\t0.0639995\t[[ 0.84234995  0.81294829]]\t[ 0.59972644]\n",
      "30\t0.0344375\t[[ 0.8843556   0.86278874]]\t[ 0.43992707]\n",
      "40\t0.0185305\t[[ 0.91516948  0.89934915]]\t[ 0.32270706]\n",
      "50\t0.00997109\t[[ 0.93777275  0.92616791]]\t[ 0.23672065]\n",
      "60\t0.00536536\t[[ 0.95435345  0.94584072]]\t[ 0.17364563]\n",
      "70\t0.00288705\t[[ 0.96651614  0.96027166]]\t[ 0.12737718]\n",
      "80\t0.00155349\t[[ 0.97543794  0.97085744]]\t[ 0.09343711]\n",
      "90\t0.000835919\t[[ 0.98198271  0.97862256]]\t[ 0.06854046]\n"
     ]
    }
   ],
   "source": [
    "# fitting\n",
    "init = tf.initialize_all_variables()\n",
    "sess.run(init)\n",
    "print(\"step\", \"sess.run(cost)\\t\", \"sess.run(W)\\t\", \"sess.run(b)\", sep='\\t')\n",
    "for step in range(100):\n",
    "    sess.run(train)\n",
    "    if step % 10 == 0:\n",
    "        print(step, sess.run(cost), sess.run(W), sess.run(b), sep='\\t')\n"
   ]
  },
  {
   "cell_type": "code",
   "execution_count": null,
   "metadata": {
    "collapsed": true
   },
   "outputs": [],
   "source": []
  },
  {
   "cell_type": "code",
   "execution_count": null,
   "metadata": {
    "collapsed": true
   },
   "outputs": [],
   "source": []
  }
 ],
 "metadata": {
  "kernelspec": {
   "display_name": "Python 3",
   "language": "python",
   "name": "python3"
  },
  "language_info": {
   "codemirror_mode": {
    "name": "ipython",
    "version": 3
   },
   "file_extension": ".py",
   "mimetype": "text/x-python",
   "name": "python",
   "nbconvert_exporter": "python",
   "pygments_lexer": "ipython3",
   "version": "3.5.1"
  }
 },
 "nbformat": 4,
 "nbformat_minor": 1
}
