{
 "cells": [
  {
   "cell_type": "markdown",
   "metadata": {},
   "source": [
    "# TensorFlow Logistic Regression"
   ]
  },
  {
   "cell_type": "code",
   "execution_count": 1,
   "metadata": {
    "collapsed": true
   },
   "outputs": [],
   "source": [
    "import tensorflow as tf\n",
    "import numpy as np\n",
    "import matplotlib.pyplot as plt"
   ]
  },
  {
   "cell_type": "code",
   "execution_count": 2,
   "metadata": {
    "collapsed": true
   },
   "outputs": [],
   "source": [
    "# 해당 매트릭스의 열정보만 뜯어내는 함수\n",
    "def column(matrix, i):\n",
    "    return [row[i] for row in matrix]"
   ]
  },
  {
   "cell_type": "code",
   "execution_count": 3,
   "metadata": {
    "collapsed": false
   },
   "outputs": [
    {
     "name": "stdout",
     "output_type": "stream",
     "text": [
      "(3, 200)\n"
     ]
    },
    {
     "data": {
      "text/plain": [
       "array([[  1.        ,   1.        ,   1.        ,   1.        ,\n",
       "          1.        ,   1.        ,   1.        ,   1.        ,\n",
       "          1.        ,   1.        ,   1.        ,   1.        ,\n",
       "          1.        ,   1.        ,   1.        ,   1.        ,\n",
       "          1.        ,   1.        ,   1.        ,   1.        ,\n",
       "          1.        ,   1.        ,   1.        ,   1.        ,\n",
       "          1.        ,   1.        ,   1.        ,   1.        ,\n",
       "          1.        ,   1.        ,   1.        ,   1.        ,\n",
       "          1.        ,   1.        ,   1.        ,   1.        ,\n",
       "          1.        ,   1.        ,   1.        ,   1.        ,\n",
       "          1.        ,   1.        ,   1.        ,   1.        ,\n",
       "          1.        ,   1.        ,   1.        ,   1.        ,\n",
       "          1.        ,   1.        ,   1.        ,   1.        ,\n",
       "          1.        ,   1.        ,   1.        ,   1.        ,\n",
       "          1.        ,   1.        ,   1.        ,   1.        ,\n",
       "          1.        ,   1.        ,   1.        ,   1.        ,\n",
       "          1.        ,   1.        ,   1.        ,   1.        ,\n",
       "          1.        ,   1.        ,   1.        ,   1.        ,\n",
       "          1.        ,   1.        ,   1.        ,   1.        ,\n",
       "          1.        ,   1.        ,   1.        ,   1.        ,\n",
       "          1.        ,   1.        ,   1.        ,   1.        ,\n",
       "          1.        ,   1.        ,   1.        ,   1.        ,\n",
       "          1.        ,   1.        ,   1.        ,   1.        ,\n",
       "          1.        ,   1.        ,   1.        ,   1.        ,\n",
       "          1.        ,   1.        ,   1.        ,   1.        ,\n",
       "          1.        ,   1.        ,   1.        ,   1.        ,\n",
       "          1.        ,   1.        ,   1.        ,   1.        ,\n",
       "          1.        ,   1.        ,   1.        ,   1.        ,\n",
       "          1.        ,   1.        ,   1.        ,   1.        ,\n",
       "          1.        ,   1.        ,   1.        ,   1.        ,\n",
       "          1.        ,   1.        ,   1.        ,   1.        ,\n",
       "          1.        ,   1.        ,   1.        ,   1.        ,\n",
       "          1.        ,   1.        ,   1.        ,   1.        ,\n",
       "          1.        ,   1.        ,   1.        ,   1.        ,\n",
       "          1.        ,   1.        ,   1.        ,   1.        ,\n",
       "          1.        ,   1.        ,   1.        ,   1.        ,\n",
       "          1.        ,   1.        ,   1.        ,   1.        ,\n",
       "          1.        ,   1.        ,   1.        ,   1.        ,\n",
       "          1.        ,   1.        ,   1.        ,   1.        ,\n",
       "          1.        ,   1.        ,   1.        ,   1.        ,\n",
       "          1.        ,   1.        ,   1.        ,   1.        ,\n",
       "          1.        ,   1.        ,   1.        ,   1.        ,\n",
       "          1.        ,   1.        ,   1.        ,   1.        ,\n",
       "          1.        ,   1.        ,   1.        ,   1.        ,\n",
       "          1.        ,   1.        ,   1.        ,   1.        ,\n",
       "          1.        ,   1.        ,   1.        ,   1.        ,\n",
       "          1.        ,   1.        ,   1.        ,   1.        ,\n",
       "          1.        ,   1.        ,   1.        ,   1.        ,\n",
       "          1.        ,   1.        ,   1.        ,   1.        ,\n",
       "          1.        ,   1.        ,   1.        ,   1.        ],\n",
       "       [  9.83025806,  10.7427472 ,  10.87104093,   9.37612251,\n",
       "          9.96674982,  11.24941498,  10.52726778,  10.81055   ,\n",
       "          9.51917257,   9.98180222,  10.79147548,   8.55446592,\n",
       "         10.56936951,  10.63057723,   9.49612888,   9.69908973,\n",
       "         10.01436035,   9.33249898,   8.52413862,  10.69568634,\n",
       "          9.96197846,   9.93363603,  10.05610328,   9.82564166,\n",
       "         10.22416084,   9.95481879,  10.42039019,  10.19191485,\n",
       "         10.57390683,  10.69594803,  10.10617186,   9.53468757,\n",
       "         11.25949359,  11.03257548,   9.91529619,  10.39335899,\n",
       "         10.03997251,  10.00220775,   9.06586176,   9.39684674,\n",
       "         11.13053652,  10.56849834,  10.95465866,   9.60007   ,\n",
       "          9.55874172,   9.8680608 ,  10.02104966,  10.30176725,\n",
       "         10.64834141,  10.67815568,  10.00382419,   9.40573621,\n",
       "         10.02023939,   9.64401625,  10.14849877,  10.32752579,\n",
       "          9.57245986,  10.05355289,  10.23902952,   9.84807667,\n",
       "          9.0891232 ,  10.3687852 ,   9.77645291,   9.89640767,\n",
       "          9.40415737,   9.74376039,   9.88312744,   8.82638521,\n",
       "         10.46258112,   9.98787973,  10.90840142,  10.25054369,\n",
       "         10.10349003,  10.57340328,   9.89488097,  10.07611764,\n",
       "         10.51148004,  10.33908204,  10.36453   ,   9.83228108,\n",
       "         10.85338062,   9.59815798,   9.66020175,   9.59969251,\n",
       "          9.74506808,   9.66155806,  10.35903975,  10.66132142,\n",
       "         10.15246832,   9.89892571,  10.85197858,  10.61770928,\n",
       "         10.5592083 ,   9.69628469,   8.98402057,   9.39872051,\n",
       "          8.90121021,   9.14832185,  10.42058566,  10.11117557,\n",
       "         13.10803072,  13.21272692,  12.5375164 ,  13.51154938,\n",
       "         13.51891752,  12.71299513,  13.61086212,  13.16886969,\n",
       "         13.7245213 ,  13.53403764,  13.62164611,  12.5603134 ,\n",
       "         12.78466695,  13.19709736,  12.77257036,  13.00473502,\n",
       "         12.23245844,  12.88966877,  13.44937776,  13.76956426,\n",
       "         13.4514353 ,  14.02389162,  12.49781504,  14.06335763,\n",
       "         13.11734953,  13.22732184,  12.96033485,  14.48037504,\n",
       "         12.77814388,  12.7590307 ,  12.6619258 ,  12.48030687,\n",
       "         13.59260753,  13.55163153,  12.85129287,  13.37288651,\n",
       "         12.91708435,  12.31454289,  13.04644592,  13.52407905,\n",
       "         12.66377828,  12.77138088,  13.25393946,  13.24718159,\n",
       "         12.99120016,  13.99844563,  12.4034368 ,  13.48351127,\n",
       "         13.23311187,  12.9543518 ,  12.77171542,  13.53053628,\n",
       "         12.77941894,  12.72851441,  12.53240208,  12.8783519 ,\n",
       "         12.86757281,  13.18075497,  13.27774768,  13.6091262 ,\n",
       "         13.4951179 ,  12.99579813,  13.15198511,  13.60901445,\n",
       "         13.70406536,  12.48879766,  12.9616566 ,  11.51520155,\n",
       "         13.38056383,  13.0187079 ,  13.29226314,  13.27910302,\n",
       "         13.00482983,  13.0297894 ,  14.52132946,  12.92635033,\n",
       "         13.13655008,  11.94810842,  12.37505473,  13.06907279,\n",
       "         14.12585216,  13.2986643 ,  13.94156326,  13.66990828,\n",
       "         12.64748998,  12.24689441,  13.75479182,  13.15256637,\n",
       "         13.04944978,  12.68387346,  12.55281587,  14.16665531,\n",
       "         12.6125692 ,  11.58549564,  13.42755105,  13.23571948,\n",
       "         12.00306708,  12.60280174,  12.08740338,  12.52116423],\n",
       "       [ 15.71025957,  15.48803595,  14.35122735,  14.77314862,\n",
       "         15.08664673,  15.5204539 ,  15.85627496,  14.79958577,\n",
       "         16.17634782,  15.47350392,  14.58377537,  15.70691091,\n",
       "         15.1927243 ,  15.91424211,  15.70759958,  15.88070305,\n",
       "         13.5573974 ,  15.30776922,  14.34352469,  15.34651903,\n",
       "         13.97342252,  14.58751691,  14.74505039,  14.61671018,\n",
       "         15.43209732,  14.31528493,  16.22696036,  14.70891727,\n",
       "         14.89175921,  15.34692274,  14.80843048,  14.83147331,\n",
       "         15.63576775,  15.19298693,  16.27015897,  14.19420225,\n",
       "         15.2664445 ,  16.14284686,  15.3188299 ,  14.1268271 ,\n",
       "         15.62012606,  14.72477862,  14.44133038,  15.00047307,\n",
       "         15.57120606,  14.75744903,  15.14128915,  16.18570858,\n",
       "         15.74196222,  15.38738871,  14.91456435,  14.90005216,\n",
       "         15.16300618,  14.49513206,  14.77481693,  15.58376381,\n",
       "         15.75709348,  15.00960942,  15.56010019,  14.84643107,\n",
       "         15.13703482,  14.74310673,  15.71840889,  15.51584483,\n",
       "         14.91332241,  14.82465884,  14.4885691 ,  15.94504558,\n",
       "         14.98332028,  15.48076616,  14.59329829,  14.99055889,\n",
       "         14.71669306,  13.82942615,  15.28088167,  15.15707947,\n",
       "         14.28135063,  15.14919201,  14.86197002,  14.6055269 ,\n",
       "         15.79683795,  15.54189389,  14.4462781 ,  15.39301414,\n",
       "         14.86242331,  16.01148984,  14.75542442,  14.8182837 ,\n",
       "         15.12842884,  14.89800548,  15.02439647,  16.03674362,\n",
       "         14.04394074,  15.86121338,  14.20606394,  16.2564473 ,\n",
       "         15.0959452 ,  14.28091173,  15.74122873,  15.63869975,\n",
       "         16.96419059,  17.46004987,  16.4877606 ,  16.23316979,\n",
       "         16.96418277,  17.06027858,  17.06218335,  16.93313618,\n",
       "         17.53080243,  17.03096935,  16.77477821,  17.29305245,\n",
       "         16.99343671,  18.20779256,  18.0280868 ,  17.16276368,\n",
       "         17.47683838,  16.57426467,  16.52913449,  17.92275195,\n",
       "         18.29878623,  15.63094633,  16.52793419,  17.26728513,\n",
       "         17.10868957,  17.50938285,  17.87261177,  16.16599922,\n",
       "         17.02304712,  16.66140538,  16.97482322,  17.20271194,\n",
       "         17.53393136,  16.74198161,  17.45923659,  17.69199805,\n",
       "         16.21143066,  16.76004249,  16.65807931,  17.42485234,\n",
       "         16.48099698,  16.76128774,  16.84558057,  16.77808074,\n",
       "         17.24747535,  18.07171613,  16.78549841,  17.05082434,\n",
       "         16.95761489,  17.40517844,  17.44689175,  17.37904706,\n",
       "         17.75969629,  18.08025206,  17.14311016,  16.45651167,\n",
       "         16.91832303,  16.73044162,  16.50056253,  17.05281572,\n",
       "         18.13669597,  16.75536937,  17.56383043,  17.4369868 ,\n",
       "         16.19810535,  17.98167375,  16.80623869,  17.09531308,\n",
       "         15.31118802,  16.84868358,  16.84289654,  16.85787274,\n",
       "         16.45640057,  17.43102733,  17.40935016,  17.35141378,\n",
       "         16.85389296,  16.93849707,  17.74531527,  16.55148181,\n",
       "         17.30706858,  16.95761491,  16.97456214,  16.13278202,\n",
       "         16.60319716,  16.42464073,  17.05574451,  15.69881617,\n",
       "         16.43039548,  17.18484866,  17.27853686,  17.2729216 ,\n",
       "         16.68361435,  17.4717953 ,  17.08975444,  16.39650621,\n",
       "         17.4578251 ,  18.21229418,  16.9452171 ,  17.28580217]])"
      ]
     },
     "execution_count": 3,
     "metadata": {},
     "output_type": "execute_result"
    }
   ],
   "source": [
    "num_points = 100\n",
    "vectors_set = []\n",
    "# 결과가 0인 데이터들\n",
    "for i in range(num_points):\n",
    "    x1 = np.random.normal(10.0, 0.55)\n",
    "    x2 = np.random.normal(15.0, 0.6)\n",
    "    y = 0.\n",
    "    vectors_set.append([x1, x2, y])\n",
    "\n",
    "# 결과가 1 인 데이터들\n",
    "for i in range(num_points):\n",
    "    x1 = np.random.normal(13.0, 0.55)\n",
    "    x2 = np.random.normal(17.0, 0.6)\n",
    "    y = 1.\n",
    "    vectors_set.append([x1, x2, y])\n",
    "\n",
    "x_data = [[v[0], v[1]] for v in vectors_set]\n",
    "y_data = [v[2] for v in vectors_set]\n",
    "x_data = np.insert(x_data, 0, 1, axis=1)\n",
    "# y_data = np.reshape(y_data,[len(x_data), 1])\n",
    "y_data = np.array(y_data)\n",
    "x_data = np.transpose(x_data)\n",
    "print(x_data.shape)\n",
    "x_data\n",
    "\n",
    "# plt.plot(column(x_data, 0), column(x_data, 1), 'ro')\n",
    "# plt.show()\n",
    "\n",
    "\n"
   ]
  },
  {
   "cell_type": "code",
   "execution_count": 4,
   "metadata": {
    "collapsed": false
   },
   "outputs": [
    {
     "name": "stdout",
     "output_type": "stream",
     "text": [
      "(200,)\n"
     ]
    },
    {
     "data": {
      "text/plain": [
       "array([ 0.,  0.,  0.,  0.,  0.,  0.,  0.,  0.,  0.,  0.,  0.,  0.,  0.,\n",
       "        0.,  0.,  0.,  0.,  0.,  0.,  0.,  0.,  0.,  0.,  0.,  0.,  0.,\n",
       "        0.,  0.,  0.,  0.,  0.,  0.,  0.,  0.,  0.,  0.,  0.,  0.,  0.,\n",
       "        0.,  0.,  0.,  0.,  0.,  0.,  0.,  0.,  0.,  0.,  0.,  0.,  0.,\n",
       "        0.,  0.,  0.,  0.,  0.,  0.,  0.,  0.,  0.,  0.,  0.,  0.,  0.,\n",
       "        0.,  0.,  0.,  0.,  0.,  0.,  0.,  0.,  0.,  0.,  0.,  0.,  0.,\n",
       "        0.,  0.,  0.,  0.,  0.,  0.,  0.,  0.,  0.,  0.,  0.,  0.,  0.,\n",
       "        0.,  0.,  0.,  0.,  0.,  0.,  0.,  0.,  0.,  1.,  1.,  1.,  1.,\n",
       "        1.,  1.,  1.,  1.,  1.,  1.,  1.,  1.,  1.,  1.,  1.,  1.,  1.,\n",
       "        1.,  1.,  1.,  1.,  1.,  1.,  1.,  1.,  1.,  1.,  1.,  1.,  1.,\n",
       "        1.,  1.,  1.,  1.,  1.,  1.,  1.,  1.,  1.,  1.,  1.,  1.,  1.,\n",
       "        1.,  1.,  1.,  1.,  1.,  1.,  1.,  1.,  1.,  1.,  1.,  1.,  1.,\n",
       "        1.,  1.,  1.,  1.,  1.,  1.,  1.,  1.,  1.,  1.,  1.,  1.,  1.,\n",
       "        1.,  1.,  1.,  1.,  1.,  1.,  1.,  1.,  1.,  1.,  1.,  1.,  1.,\n",
       "        1.,  1.,  1.,  1.,  1.,  1.,  1.,  1.,  1.,  1.,  1.,  1.,  1.,\n",
       "        1.,  1.,  1.,  1.,  1.])"
      ]
     },
     "execution_count": 4,
     "metadata": {},
     "output_type": "execute_result"
    }
   ],
   "source": [
    "print(y_data.shape)\n",
    "y_data"
   ]
  },
  {
   "cell_type": "code",
   "execution_count": 5,
   "metadata": {
    "collapsed": false
   },
   "outputs": [
    {
     "data": {
      "image/png": "[encoded data removed]",
      "text/plain": [
       "<matplotlib.figure.Figure at 0x10bb53c50>"
      ]
     },
     "metadata": {},
     "output_type": "display_data"
    }
   ],
   "source": [
    "# 결과물을 표로 보고 싶다면\n",
    "x_data_0 = [[v[0], v[1]] for v in vectors_set if v[2] == 0]\n",
    "x_data_1 = [[v[0], v[1]] for v in vectors_set if v[2] == 1] \n",
    "plt.plot(column(x_data_0, 0), column(x_data_0, 1) , 'ro', label='Group1')\n",
    "plt.plot(column(x_data_1, 0), column(x_data_1, 1) , 'yo', label='Group2')\n",
    "plt.show()"
   ]
  },
  {
   "cell_type": "code",
   "execution_count": 6,
   "metadata": {
    "collapsed": false
   },
   "outputs": [],
   "source": [
    "X = tf.placeholder(tf.float32)\n",
    "Y = tf.placeholder(tf.float32)"
   ]
  },
  {
   "cell_type": "code",
   "execution_count": 7,
   "metadata": {
    "collapsed": false
   },
   "outputs": [
    {
     "name": "stdout",
     "output_type": "stream",
     "text": [
      "3\n",
      "200\n"
     ]
    }
   ],
   "source": [
    "print(len(x_data))\n",
    "print(len(x_data[0]))"
   ]
  },
  {
   "cell_type": "code",
   "execution_count": 8,
   "metadata": {
    "collapsed": true
   },
   "outputs": [],
   "source": [
    "W = tf.Variable(tf.random_uniform([1, len(x_data)], -1.0, 1.0))"
   ]
  },
  {
   "cell_type": "code",
   "execution_count": 9,
   "metadata": {
    "collapsed": true
   },
   "outputs": [],
   "source": [
    "h = tf.matmul(W, X)"
   ]
  },
  {
   "cell_type": "code",
   "execution_count": 10,
   "metadata": {
    "collapsed": true
   },
   "outputs": [],
   "source": [
    "hypo = tf.sigmoid(h)"
   ]
  },
  {
   "cell_type": "code",
   "execution_count": 11,
   "metadata": {
    "collapsed": true
   },
   "outputs": [],
   "source": [
    "cost = -tf.reduce_mean(Y*tf.log(hypo) + (1-Y)*tf.log(1.-hypo))"
   ]
  },
  {
   "cell_type": "code",
   "execution_count": 12,
   "metadata": {
    "collapsed": true
   },
   "outputs": [],
   "source": [
    "alpha = tf.Variable(0.01)"
   ]
  },
  {
   "cell_type": "code",
   "execution_count": 13,
   "metadata": {
    "collapsed": true
   },
   "outputs": [],
   "source": [
    "optimizer = tf.train.GradientDescentOptimizer(alpha)"
   ]
  },
  {
   "cell_type": "code",
   "execution_count": 14,
   "metadata": {
    "collapsed": true
   },
   "outputs": [],
   "source": [
    "train = optimizer.minimize(cost)"
   ]
  },
  {
   "cell_type": "code",
   "execution_count": 15,
   "metadata": {
    "collapsed": true
   },
   "outputs": [],
   "source": [
    "init = tf.initialize_all_variables()"
   ]
  },
  {
   "cell_type": "code",
   "execution_count": 16,
   "metadata": {
    "collapsed": false
   },
   "outputs": [
    {
     "name": "stdout",
     "output_type": "stream",
     "text": [
      "step : 0\n",
      "cost : 4.19624\n",
      "W : [[-0.55167961  0.51008821 -0.85130852]]\n",
      "==================================================\n",
      "step : 200\n",
      "cost : 0.401976\n",
      "W : [[-0.58601713  1.00540209 -0.67845219]]\n",
      "==================================================\n",
      "step : 400\n",
      "cost : 0.372819\n",
      "W : [[-0.63661689  1.19823277 -0.81411386]]\n",
      "==================================================\n",
      "step : 600\n",
      "cost : 0.352616\n",
      "W : [[-0.68381524  1.35803854 -0.92618656]]\n",
      "==================================================\n",
      "step : 800\n",
      "cost : 0.337848\n",
      "W : [[-0.72847891  1.49394476 -1.02120054]]\n",
      "==================================================\n"
     ]
    }
   ],
   "source": [
    "sess = tf.Session()\n",
    "sess.run(init)\n",
    "\n",
    "for step in range(1000):\n",
    "    sess.run(train, feed_dict={X:x_data, Y:y_data})\n",
    "    if step % 200 == 0:\n",
    "        print(\"step :\", step)\n",
    "        print(\"cost :\", sess.run(cost, feed_dict={X:x_data, Y:y_data}))\n",
    "        print(\"W :\", sess.run(W))\n",
    "        print(\"=\"*50)\n",
    "        # plt.plot(column(x_data_0, 0), column(x_data_0, 1) , 'ro', label='Group1')\n",
    "        # plt.plot(column(x_data_1, 0), column(x_data_1, 1) , 'yo', label='Group2')\n",
    "        # plt.plot(x_data, sess.run(hypo, feed_dict={X:x_data}), 'b-', label='hyper function')\n",
    "        # plt.show()"
   ]
  },
  {
   "cell_type": "code",
   "execution_count": 17,
   "metadata": {
    "collapsed": true
   },
   "outputs": [],
   "source": [
    "def is_pass(predict_value):\n",
    "    return predict_value > 0.5"
   ]
  },
  {
   "cell_type": "code",
   "execution_count": 18,
   "metadata": {
    "collapsed": false
   },
   "outputs": [
    {
     "name": "stdout",
     "output_type": "stream",
     "text": [
      "[[  7.58067927e-07]]\n",
      "[[False]]\n",
      "[[ 0.99991679]]\n",
      "[[ True]]\n"
     ]
    }
   ],
   "source": [
    "test_x = np.reshape([1, 2, 15], [3,1])\n",
    "p_value = sess.run(hypo, feed_dict={X:test_x})\n",
    "print(p_value)\n",
    "print(is_pass(p_value))\n",
    "\n",
    "test_x = np.reshape([1, 20, 20], [3,1])\n",
    "p_value = sess.run(hypo, feed_dict={X:test_x})\n",
    "print(p_value)\n",
    "print(is_pass(p_value))"
   ]
  },
  {
   "cell_type": "code",
   "execution_count": null,
   "metadata": {
    "collapsed": true
   },
   "outputs": [],
   "source": []
  }
 ],
 "metadata": {
  "kernelspec": {
   "display_name": "Python 3",
   "language": "python",
   "name": "python3"
  },
  "language_info": {
   "codemirror_mode": {
    "name": "ipython",
    "version": 3
   },
   "file_extension": ".py",
   "mimetype": "text/x-python",
   "name": "python",
   "nbconvert_exporter": "python",
   "pygments_lexer": "ipython3",
   "version": "3.5.1"
  }
 },
 "nbformat": 4,
 "nbformat_minor": 1
}
