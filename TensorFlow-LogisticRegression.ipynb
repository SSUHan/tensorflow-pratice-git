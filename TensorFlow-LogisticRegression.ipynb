{
 "cells": [
  {
   "cell_type": "markdown",
   "metadata": {},
   "source": [
    "# TensorFlow Logistic Regression"
   ]
  },
  {
   "cell_type": "code",
   "execution_count": 1,
   "metadata": {
    "collapsed": true
   },
   "outputs": [],
   "source": [
    "import tensorflow as tf\n",
    "import numpy as np\n",
    "import matplotlib.pyplot as plt"
   ]
  },
  {
   "cell_type": "code",
   "execution_count": 2,
   "metadata": {
    "collapsed": true
   },
   "outputs": [],
   "source": [
    "# 해당 매트릭스의 열정보만 뜯어내는 함수\n",
    "def column(matrix, i):\n",
    "    return [row[i] for row in matrix]"
   ]
  },
  {
   "cell_type": "code",
   "execution_count": 3,
   "metadata": {
    "collapsed": false
   },
   "outputs": [],
   "source": [
    "num_points = 100\n",
    "vectors_set = []\n",
    "x1_mean_0 = 15.0\n",
    "x2_mean_0 = 11.0\n",
    "\n",
    "x1_mean_1 = 13.0\n",
    "x2_mean_1 = 17.0\n",
    "# 결과가 0인 데이터들\n",
    "for i in range(num_points):\n",
    "    x1 = np.random.normal(x1_mean_0, 0.55)\n",
    "    x2 = np.random.normal(x2_mean_0, 0.6)\n",
    "    y = 0.\n",
    "    vectors_set.append([x1, x2, y])\n",
    "\n",
    "# 결과가 1 인 데이터들\n",
    "for i in range(num_points):\n",
    "    x1 = np.random.normal(x1_mean_1, 0.55)\n",
    "    x2 = np.random.normal(x2_mean_1, 0.6)\n",
    "    y = 1.\n",
    "    vectors_set.append([x1, x2, y])\n",
    "\n",
    "x_data_list = [[v[0], v[1]] for v in vectors_set]\n",
    "y_data = [v[2] for v in vectors_set]\n"
   ]
  },
  {
   "cell_type": "code",
   "execution_count": 29,
   "metadata": {
    "collapsed": false
   },
   "outputs": [
    {
     "data": {
      "image/png": "[encoded data removed]",
      "text/plain": [
       "<matplotlib.figure.Figure at 0x116db12b0>"
      ]
     },
     "metadata": {},
     "output_type": "display_data"
    }
   ],
   "source": [
    "plt.plot(column(x_data_list, 0), column(x_data_list, 1), 'ro')\n",
    "plt.show()"
   ]
  },
  {
   "cell_type": "code",
   "execution_count": 5,
   "metadata": {
    "collapsed": false
   },
   "outputs": [
    {
     "name": "stdout",
     "output_type": "stream",
     "text": [
      "(3, 200)\n"
     ]
    }
   ],
   "source": [
    "x_data = np.insert(x_data_list, 0, 1, axis=1)\n",
    "\n",
    "# y <- np.array\n",
    "y_data = np.array(y_data)\n",
    "x_data = np.transpose(x_data)\n",
    "\n",
    "print(x_data.shape)\n",
    "# x_data"
   ]
  },
  {
   "cell_type": "code",
   "execution_count": 6,
   "metadata": {
    "collapsed": false
   },
   "outputs": [
    {
     "data": {
      "text/plain": [
       "(200,)"
      ]
     },
     "execution_count": 6,
     "metadata": {},
     "output_type": "execute_result"
    }
   ],
   "source": [
    "y_data.shape"
   ]
  },
  {
   "cell_type": "code",
   "execution_count": 7,
   "metadata": {
    "collapsed": false
   },
   "outputs": [
    {
     "data": {
      "image/png": "[encoded data removed]",
      "text/plain": [
       "<matplotlib.figure.Figure at 0x116d4fa58>"
      ]
     },
     "metadata": {},
     "output_type": "display_data"
    }
   ],
   "source": [
    "# 결과물을 표로 보고 싶다면\n",
    "x_data_0 = [[v[0], v[1]] for v in vectors_set if v[2] == 0]\n",
    "x_data_1 = [[v[0], v[1]] for v in vectors_set if v[2] == 1] \n",
    "plt.plot(column(x_data_0, 0), column(x_data_0, 1) , 'ro', label='Group1')\n",
    "plt.plot(column(x_data_1, 0), column(x_data_1, 1) , 'yo', label='Group2')\n",
    "plt.show()"
   ]
  },
  {
   "cell_type": "code",
   "execution_count": 8,
   "metadata": {
    "collapsed": false
   },
   "outputs": [],
   "source": [
    "X = tf.placeholder(tf.float32)\n",
    "Y = tf.placeholder(tf.float32)"
   ]
  },
  {
   "cell_type": "code",
   "execution_count": 9,
   "metadata": {
    "collapsed": false
   },
   "outputs": [
    {
     "name": "stdout",
     "output_type": "stream",
     "text": [
      "3\n",
      "200\n"
     ]
    }
   ],
   "source": [
    "print(len(x_data))\n",
    "print(len(x_data[0]))"
   ]
  },
  {
   "cell_type": "code",
   "execution_count": 10,
   "metadata": {
    "collapsed": true
   },
   "outputs": [],
   "source": [
    "W = tf.Variable(tf.random_uniform([1, len(x_data)], -1.0, 1.0))"
   ]
  },
  {
   "cell_type": "code",
   "execution_count": 11,
   "metadata": {
    "collapsed": true
   },
   "outputs": [],
   "source": [
    "h = tf.matmul(W, X)"
   ]
  },
  {
   "cell_type": "code",
   "execution_count": 12,
   "metadata": {
    "collapsed": true
   },
   "outputs": [],
   "source": [
    "hypo = tf.sigmoid(h)"
   ]
  },
  {
   "cell_type": "code",
   "execution_count": 13,
   "metadata": {
    "collapsed": true
   },
   "outputs": [],
   "source": [
    "cost = -tf.reduce_mean(Y*tf.log(hypo) + (1-Y)*tf.log(1.-hypo))"
   ]
  },
  {
   "cell_type": "code",
   "execution_count": 14,
   "metadata": {
    "collapsed": true
   },
   "outputs": [],
   "source": [
    "alpha = tf.Variable(0.01)"
   ]
  },
  {
   "cell_type": "code",
   "execution_count": 15,
   "metadata": {
    "collapsed": true
   },
   "outputs": [],
   "source": [
    "optimizer = tf.train.GradientDescentOptimizer(alpha)"
   ]
  },
  {
   "cell_type": "code",
   "execution_count": 16,
   "metadata": {
    "collapsed": true
   },
   "outputs": [],
   "source": [
    "train = optimizer.minimize(cost)"
   ]
  },
  {
   "cell_type": "code",
   "execution_count": 17,
   "metadata": {
    "collapsed": true
   },
   "outputs": [],
   "source": [
    "init = tf.initialize_all_variables()"
   ]
  },
  {
   "cell_type": "code",
   "execution_count": 18,
   "metadata": {
    "collapsed": false
   },
   "outputs": [
    {
     "name": "stdout",
     "output_type": "stream",
     "text": [
      "step : 0\n",
      "cost : 2.72868\n",
      "W : [[ 0.46848771  0.30837494  0.03272241]]\n",
      "==================================================\n",
      "step : 500\n",
      "cost : 0.0316077\n",
      "W : [[ 0.41509286 -0.91403306  0.88886899]]\n",
      "==================================================\n",
      "step : 1000\n",
      "cost : 0.0163247\n",
      "W : [[ 0.40693891 -1.10589564  1.08035886]]\n",
      "==================================================\n",
      "step : 1500\n",
      "cost : 0.0111428\n",
      "W : [[ 0.40200493 -1.21907985  1.19325817]]\n",
      "==================================================\n"
     ]
    }
   ],
   "source": [
    "sess = tf.Session()\n",
    "sess.run(init)\n",
    "\n",
    "for step in range(2000):\n",
    "    sess.run(train, feed_dict={X:x_data, Y:y_data})\n",
    "    if step % 500 == 0:\n",
    "        print(\"step :\", step)\n",
    "        print(\"cost :\", sess.run(cost, feed_dict={X:x_data, Y:y_data}))\n",
    "        print(\"W :\", sess.run(W))\n",
    "        print(\"=\"*50)\n",
    "        # plt.plot(column(x_data_0, 0), column(x_data_0, 1) , 'ro', label='Group1')\n",
    "        # plt.plot(column(x_data_1, 0), column(x_data_1, 1) , 'yo', label='Group2')\n",
    "        # plt.plot(x_data, sess.run(hypo, feed_dict={X:x_data}), 'b-', label='hyper function')\n",
    "        # plt.show()"
   ]
  },
  {
   "cell_type": "code",
   "execution_count": 19,
   "metadata": {
    "collapsed": true
   },
   "outputs": [],
   "source": [
    "def is_pass(predict_value):\n",
    "    return predict_value > 0.5"
   ]
  },
  {
   "cell_type": "code",
   "execution_count": 20,
   "metadata": {
    "collapsed": false
   },
   "outputs": [
    {
     "name": "stdout",
     "output_type": "stream",
     "text": [
      "[[ 1.]]\n",
      "[[ True]]\n",
      "[[  2.59802641e-06]]\n",
      "[[False]]\n"
     ]
    }
   ],
   "source": [
    "test_x = np.reshape([1, 2, 15], [3,1])\n",
    "p_value = sess.run(hypo, feed_dict={X:test_x})\n",
    "print(p_value)\n",
    "print(is_pass(p_value))\n",
    "\n",
    "test_x = np.reshape([1, 20, 10], [3,1])\n",
    "p_value = sess.run(hypo, feed_dict={X:test_x})\n",
    "print(p_value)\n",
    "print(is_pass(p_value))"
   ]
  },
  {
   "cell_type": "code",
   "execution_count": 28,
   "metadata": {
    "collapsed": false
   },
   "outputs": [
    {
     "data": {
      "image/png": "[encoded data removed]",
      "text/plain": [
       "<matplotlib.figure.Figure at 0x118607898>"
      ]
     },
     "metadata": {},
     "output_type": "display_data"
    }
   ],
   "source": [
    "test_x1 = np.linspace(11, 17, 30)\n",
    "test_x2 = np.linspace(8,19, 30)\n",
    "# print(test_x2.shape)\n",
    "\n",
    "test_x = [test_x1, test_x2]\n",
    "step_x1 = 0\n",
    "i = 0\n",
    "plt.plot(column(x_data_0, 0), column(x_data_0, 1) , 'ro', label='Group1')\n",
    "plt.plot(column(x_data_1, 0), column(x_data_1, 1) , 'yo', label='Group2')\n",
    "for index in test_x1:\n",
    "    lim_x1 = [index]*len(test_x2)\n",
    "    test_x = [[1]*len(test_x2), lim_x1, test_x2]\n",
    "    p_value = sess.run(hypo, feed_dict={X:test_x})\n",
    "    lim=0\n",
    "    for pass_bool in is_pass(p_value)[0]:\n",
    "        if pass_bool == True:\n",
    "            plt.plot(lim_x1[step_x1], test_x2[lim], 'y+')\n",
    "        else:\n",
    "            plt.plot(lim_x1[step_x1], test_x2[lim], 'r+')\n",
    "        lim = lim + 1\n",
    "    step_x1 = step_x1 + 1\n",
    "    # i = i + 1\n",
    "    # if i == 5:\n",
    "    #     break\n",
    "plt.show()"
   ]
  },
  {
   "cell_type": "code",
   "execution_count": 22,
   "metadata": {
    "collapsed": false
   },
   "outputs": [
    {
     "name": "stdout",
     "output_type": "stream",
     "text": [
      "[[ 0.00186379]]\n",
      "[[False]]\n"
     ]
    }
   ],
   "source": [
    "test_x = np.reshape([1, 12, 7], [3,1])\n",
    "p_value = sess.run(hypo, feed_dict={X:test_x})\n",
    "print(p_value)\n",
    "print(is_pass(p_value))"
   ]
  },
  {
   "cell_type": "code",
   "execution_count": null,
   "metadata": {
    "collapsed": true
   },
   "outputs": [],
   "source": []
  }
 ],
 "metadata": {
  "kernelspec": {
   "display_name": "Python 3",
   "language": "python",
   "name": "python3"
  },
  "language_info": {
   "codemirror_mode": {
    "name": "ipython",
    "version": 3
   },
   "file_extension": ".py",
   "mimetype": "text/x-python",
   "name": "python",
   "nbconvert_exporter": "python",
   "pygments_lexer": "ipython3",
   "version": "3.5.1"
  }
 },
 "nbformat": 4,
 "nbformat_minor": 1
}
